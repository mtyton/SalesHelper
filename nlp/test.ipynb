{
 "cells": [
  {
   "cell_type": "code",
   "execution_count": 1,
   "metadata": {},
   "outputs": [],
   "source": [
    "import spacy\n",
    "\n",
    "from bs4 import BeautifulSoup\n",
    "from nlp.ner import NER\n",
    "\n",
    "\n"
   ]
  },
  {
   "cell_type": "code",
   "execution_count": 2,
   "metadata": {},
   "outputs": [],
   "source": [
    "text = \"\"\"\n",
    "'<div _ngcontent-sc377=\"\" class=\"tw-overflow-hidden ng-star-inserted\" style=\"line-height: 1000px; height: auto;\"><p><strong>Must have:</strong></p>\\n<p>Solid experience in <strong>C++ development</strong><br>Understanding of <strong>software design patterns</strong><br>Experience with implementing multi-threaded applications<br>Understanding of fundamental design principles behind a scalable application<br>Experience working with the relational databases and <strong>SQL</strong><br>Knowledge of object-relational mapping (<strong>ORM</strong>)<br>Ability to write quality-oriented, efficient code and support it with unit and auto-test <br>Experience with *<strong>NIX </strong>operational systems</p>\\n<p><br><strong>Desired:</strong></p>\\n<p>Experience in Python 3.x development<br>Understanding of the threading limitations of Python, and multi-process architecture<br>Experience with Python frameworks (e.g. Selenium, Django)<br>Familiarity with Amazon Web Services<br><br></p></div>',\n",
    "\"\"\"\n",
    "soup = BeautifulSoup(text, features=\"lxml\")\n",
    "text = soup.get_text(\" \")"
   ]
  },
  {
   "cell_type": "code",
   "execution_count": 3,
   "metadata": {},
   "outputs": [
    {
     "name": "stderr",
     "output_type": "stream",
     "text": [
      "/home/mtyton/PythonProjects/Inżynierka/venv/lib/python3.10/site-packages/spacy/training/iob_utils.py:149: UserWarning: [W030] Some entities could not be aligned in the text \"Yogesh Ghatole\n",
      "Engineer / Electrical Supervisor, S...\" with entities \"[(15, 23, 'position'), (26, 47, 'position'), (420,...\". Use `spacy.training.offsets_to_biluo_tags(nlp.make_doc(text), entities)` to check the alignment. Misaligned entities ('-') will be ignored during training.\n",
      "  warnings.warn(\n",
      "/home/mtyton/PythonProjects/Inżynierka/venv/lib/python3.10/site-packages/spacy/training/iob_utils.py:149: UserWarning: [W030] Some entities could not be aligned in the text \"Meenalochani Kondya\n",
      "Systems Engineer, Infosys Bang...\" with entities \"[(20, 36, 'position'), (217, 231, 'Skill'), (584, ...\". Use `spacy.training.offsets_to_biluo_tags(nlp.make_doc(text), entities)` to check the alignment. Misaligned entities ('-') will be ignored during training.\n",
      "  warnings.warn(\n",
      "/home/mtyton/PythonProjects/Inżynierka/venv/lib/python3.10/site-packages/spacy/training/iob_utils.py:149: UserWarning: [W030] Some entities could not be aligned in the text \"Mayank Shukla\n",
      "Infosys group as a Test Analyst - In...\" with entities \"[(33, 45, 'position'), (625, 637, 'position'), (14...\". Use `spacy.training.offsets_to_biluo_tags(nlp.make_doc(text), entities)` to check the alignment. Misaligned entities ('-') will be ignored during training.\n",
      "  warnings.warn(\n",
      "/home/mtyton/PythonProjects/Inżynierka/venv/lib/python3.10/site-packages/spacy/training/iob_utils.py:149: UserWarning: [W030] Some entities could not be aligned in the text \"Karthik Gururaj\n",
      "Technical Lead at Infosys Ltd. - P...\" with entities \"[(246, 250, 'Skill'), (252, 255, 'Skill'), (257, 2...\". Use `spacy.training.offsets_to_biluo_tags(nlp.make_doc(text), entities)` to check the alignment. Misaligned entities ('-') will be ignored during training.\n",
      "  warnings.warn(\n",
      "/home/mtyton/PythonProjects/Inżynierka/venv/lib/python3.10/site-packages/spacy/training/iob_utils.py:149: UserWarning: [W030] Some entities could not be aligned in the text \"Ahmad Bardolia\n",
      "Project Lead for Infosys OpenStack\n",
      "...\" with entities \"[(15, 28, 'position'), (121, 130, 'Skill'), (157, ...\". Use `spacy.training.offsets_to_biluo_tags(nlp.make_doc(text), entities)` to check the alignment. Misaligned entities ('-') will be ignored during training.\n",
      "  warnings.warn(\n",
      "/home/mtyton/PythonProjects/Inżynierka/venv/lib/python3.10/site-packages/spacy/training/iob_utils.py:149: UserWarning: [W030] Some entities could not be aligned in the text \"Venkateswara D\n",
      "specialist - Technology Process\n",
      "\n",
      "IN...\" with entities \"[(2222, 2235, 'Skill'), (2265, 2267, 'Skill'), (22...\". Use `spacy.training.offsets_to_biluo_tags(nlp.make_doc(text), entities)` to check the alignment. Misaligned entities ('-') will be ignored during training.\n",
      "  warnings.warn(\n",
      "/home/mtyton/PythonProjects/Inżynierka/venv/lib/python3.10/site-packages/spacy/training/iob_utils.py:149: UserWarning: [W030] Some entities could not be aligned in the text \"Anil Kumar\n",
      "Microsoft Azure (Basic Management)\n",
      "\n",
      "Del...\" with entities \"[(11, 26, 'Skill'), (555, 570, 'Skill'), (661, 677...\". Use `spacy.training.offsets_to_biluo_tags(nlp.make_doc(text), entities)` to check the alignment. Misaligned entities ('-') will be ignored during training.\n",
      "  warnings.warn(\n",
      "/home/mtyton/PythonProjects/Inżynierka/venv/lib/python3.10/site-packages/spacy/training/iob_utils.py:149: UserWarning: [W030] Some entities could not be aligned in the text \"Siddharth Choudhary\n",
      "Microsoft Office Suite - Exper...\" with entities \"[(20, 51, 'position'), (643, 674, 'position'), (78...\". Use `spacy.training.offsets_to_biluo_tags(nlp.make_doc(text), entities)` to check the alignment. Misaligned entities ('-') will be ignored during training.\n",
      "  warnings.warn(\n",
      "/home/mtyton/PythonProjects/Inżynierka/venv/lib/python3.10/site-packages/spacy/training/iob_utils.py:149: UserWarning: [W030] Some entities could not be aligned in the text \"Imgeeyaul Ansari\n",
      "java developer\n",
      "\n",
      "Pune, Maharashtra...\" with entities \"[(1786, 1796, 'Skill'), (1770, 1775, 'Skill'), (17...\". Use `spacy.training.offsets_to_biluo_tags(nlp.make_doc(text), entities)` to check the alignment. Misaligned entities ('-') will be ignored during training.\n",
      "  warnings.warn(\n",
      "/home/mtyton/PythonProjects/Inżynierka/venv/lib/python3.10/site-packages/spacy/training/iob_utils.py:149: UserWarning: [W030] Some entities could not be aligned in the text \"Ravi Shankar\n",
      "Working as Escalation Engineer with M...\" with entities \"[(24, 43, 'position'), (534, 553, 'position'), (77...\". Use `spacy.training.offsets_to_biluo_tags(nlp.make_doc(text), entities)` to check the alignment. Misaligned entities ('-') will be ignored during training.\n",
      "  warnings.warn(\n",
      "/home/mtyton/PythonProjects/Inżynierka/venv/lib/python3.10/site-packages/spacy/training/iob_utils.py:149: UserWarning: [W030] Some entities could not be aligned in the text \"kimaya sonawane\n",
      "Thane, Maharashtra - Email me on I...\" with entities \"[(306, 332, 'position'), (687, 691, 'Education'), ...\". Use `spacy.training.offsets_to_biluo_tags(nlp.make_doc(text), entities)` to check the alignment. Misaligned entities ('-') will be ignored during training.\n",
      "  warnings.warn(\n",
      "/home/mtyton/PythonProjects/Inżynierka/venv/lib/python3.10/site-packages/spacy/training/iob_utils.py:149: UserWarning: [W030] Some entities could not be aligned in the text \"Darshan G.\n",
      "Financial Analyst - Oracle\n",
      "\n",
      "Bengaluru, ...\" with entities \"[(1680, 1685, 'Skill'), (1706, 1713, 'Skill'), (17...\". Use `spacy.training.offsets_to_biluo_tags(nlp.make_doc(text), entities)` to check the alignment. Misaligned entities ('-') will be ignored during training.\n",
      "  warnings.warn(\n",
      "/home/mtyton/PythonProjects/Inżynierka/venv/lib/python3.10/site-packages/spacy/training/iob_utils.py:149: UserWarning: [W030] Some entities could not be aligned in the text \"Nidhi Pandit\n",
      "Test Engineer - Infosys Limited\n",
      "\n",
      "- Em...\" with entities \"[(3005, 3008, 'Skill'), (3020, 3029, 'Skill'), (30...\". Use `spacy.training.offsets_to_biluo_tags(nlp.make_doc(text), entities)` to check the alignment. Misaligned entities ('-') will be ignored during training.\n",
      "  warnings.warn(\n",
      "/home/mtyton/PythonProjects/Inżynierka/venv/lib/python3.10/site-packages/spacy/training/iob_utils.py:149: UserWarning: [W030] Some entities could not be aligned in the text \"Shabnam Saba\n",
      "Offshore SAP CRM Functional Consultan...\" with entities \"[(30, 51, 'position'), (608, 611, 'Skill'), (679, ...\". Use `spacy.training.offsets_to_biluo_tags(nlp.make_doc(text), entities)` to check the alignment. Misaligned entities ('-') will be ignored during training.\n",
      "  warnings.warn(\n",
      "/home/mtyton/PythonProjects/Inżynierka/venv/lib/python3.10/site-packages/spacy/training/iob_utils.py:149: UserWarning: [W030] Some entities could not be aligned in the text \"Shaheen Unissa\n",
      "SAP ABAP Consultant\n",
      "\n",
      "Hyderabad, Tel...\" with entities \"[(24, 34, 'position'), (175, 193, 'position'), (27...\". Use `spacy.training.offsets_to_biluo_tags(nlp.make_doc(text), entities)` to check the alignment. Misaligned entities ('-') will be ignored during training.\n",
      "  warnings.warn(\n",
      "/home/mtyton/PythonProjects/Inżynierka/venv/lib/python3.10/site-packages/spacy/training/iob_utils.py:149: UserWarning: [W030] Some entities could not be aligned in the text \"PRASHANTH BADALA\n",
      "Devops Engineer ,Cloud Engineer -...\" with entities \"[(17, 32, 'position'), (34, 48, 'position'), (392,...\". Use `spacy.training.offsets_to_biluo_tags(nlp.make_doc(text), entities)` to check the alignment. Misaligned entities ('-') will be ignored during training.\n",
      "  warnings.warn(\n",
      "/home/mtyton/PythonProjects/Inżynierka/venv/lib/python3.10/site-packages/spacy/training/iob_utils.py:149: UserWarning: [W030] Some entities could not be aligned in the text \"Jyotirbindu Patnaik\n",
      "Associate consultant@SAP labs ...\" with entities \"[(2951, 2991, 'Education'), (20, 40, 'position'), ...\". Use `spacy.training.offsets_to_biluo_tags(nlp.make_doc(text), entities)` to check the alignment. Misaligned entities ('-') will be ignored during training.\n",
      "  warnings.warn(\n",
      "/home/mtyton/PythonProjects/Inżynierka/venv/lib/python3.10/site-packages/spacy/training/iob_utils.py:149: UserWarning: [W030] Some entities could not be aligned in the text \"Lakshika Neelakshi\n",
      "Senior Systems Engineer - Infos...\" with entities \"[(19, 42, 'position'), (352, 375, 'position'), (70...\". Use `spacy.training.offsets_to_biluo_tags(nlp.make_doc(text), entities)` to check the alignment. Misaligned entities ('-') will be ignored during training.\n",
      "  warnings.warn(\n",
      "/home/mtyton/PythonProjects/Inżynierka/venv/lib/python3.10/site-packages/spacy/training/iob_utils.py:149: UserWarning: [W030] Some entities could not be aligned in the text \"Jitendra Babu\n",
      "FI/CO Consultant in Tech Mahindra - ...\" with entities \"[(14, 30, 'position'), (191, 206, 'position'), (85...\". Use `spacy.training.offsets_to_biluo_tags(nlp.make_doc(text), entities)` to check the alignment. Misaligned entities ('-') will be ignored during training.\n",
      "  warnings.warn(\n",
      "/home/mtyton/PythonProjects/Inżynierka/venv/lib/python3.10/site-packages/spacy/training/iob_utils.py:149: UserWarning: [W030] Some entities could not be aligned in the text \"Mahesh Vijay\n",
      "Bengaluru, Karnataka - Email me on In...\" with entities \"[(454, 463, 'position'), (617, 626, 'position'), (...\". Use `spacy.training.offsets_to_biluo_tags(nlp.make_doc(text), entities)` to check the alignment. Misaligned entities ('-') will be ignored during training.\n",
      "  warnings.warn(\n",
      "/home/mtyton/PythonProjects/Inżynierka/venv/lib/python3.10/site-packages/spacy/training/iob_utils.py:149: UserWarning: [W030] Some entities could not be aligned in the text \"Yogi Pesaru\n",
      "Developer - Infosys Limited\n",
      "\n",
      "Hyderabad...\" with entities \"[(12, 21, 'position'), (201, 204, 'Skill'), (205, ...\". Use `spacy.training.offsets_to_biluo_tags(nlp.make_doc(text), entities)` to check the alignment. Misaligned entities ('-') will be ignored during training.\n",
      "  warnings.warn(\n",
      "/home/mtyton/PythonProjects/Inżynierka/venv/lib/python3.10/site-packages/spacy/training/iob_utils.py:149: UserWarning: [W030] Some entities could not be aligned in the text \"Ramakrishna Rao\n",
      "DevOps Consultant - Tech Mahindra ...\" with entities \"[(16, 34, 'position'), (388, 392, 'Skill'), (664, ...\". Use `spacy.training.offsets_to_biluo_tags(nlp.make_doc(text), entities)` to check the alignment. Misaligned entities ('-') will be ignored during training.\n",
      "  warnings.warn(\n",
      "/home/mtyton/PythonProjects/Inżynierka/venv/lib/python3.10/site-packages/spacy/training/iob_utils.py:149: UserWarning: [W030] Some entities could not be aligned in the text \"Soumya Balan\n",
      "IT SUPPORT\n",
      "\n",
      "Sulthan Bathery, Kerala, ...\" with entities \"[(4239, 4244, 'Skill'), (4246, 4252, 'Skill'), (41...\". Use `spacy.training.offsets_to_biluo_tags(nlp.make_doc(text), entities)` to check the alignment. Misaligned entities ('-') will be ignored during training.\n",
      "  warnings.warn(\n",
      "/home/mtyton/PythonProjects/Inżynierka/venv/lib/python3.10/site-packages/spacy/training/iob_utils.py:149: UserWarning: [W030] Some entities could not be aligned in the text \"Sudaya Puranik\n",
      "Principal Engineer Technical Staff ...\" with entities \"[(15, 49, 'position'), (342, 376, 'position'), (74...\". Use `spacy.training.offsets_to_biluo_tags(nlp.make_doc(text), entities)` to check the alignment. Misaligned entities ('-') will be ignored during training.\n",
      "  warnings.warn(\n",
      "/home/mtyton/PythonProjects/Inżynierka/venv/lib/python3.10/site-packages/spacy/training/iob_utils.py:149: UserWarning: [W030] Some entities could not be aligned in the text \"Dinesh Reddy\n",
      "Deployed chef for configuration manag...\" with entities \"[(403, 427, 'experience'), (433, 458, 'position'),...\". Use `spacy.training.offsets_to_biluo_tags(nlp.make_doc(text), entities)` to check the alignment. Misaligned entities ('-') will be ignored during training.\n",
      "  warnings.warn(\n",
      "/home/mtyton/PythonProjects/Inżynierka/venv/lib/python3.10/site-packages/spacy/training/iob_utils.py:149: UserWarning: [W030] Some entities could not be aligned in the text \"Shrishti Chauhan\n",
      "Have total work experience of 2.5...\" with entities \"[(430, 450, 'position'), (1519, 1541, 'Skill'), (1...\". Use `spacy.training.offsets_to_biluo_tags(nlp.make_doc(text), entities)` to check the alignment. Misaligned entities ('-') will be ignored during training.\n",
      "  warnings.warn(\n",
      "/home/mtyton/PythonProjects/Inżynierka/venv/lib/python3.10/site-packages/spacy/training/iob_utils.py:149: UserWarning: [W030] Some entities could not be aligned in the text \"Dipesh Gulati\n",
      "Co-coordinator of CODE HUNTER at CGC...\" with entities \"[(14, 28, 'position'), (447, 457, 'Skill'), (735, ...\". Use `spacy.training.offsets_to_biluo_tags(nlp.make_doc(text), entities)` to check the alignment. Misaligned entities ('-') will be ignored during training.\n",
      "  warnings.warn(\n",
      "/home/mtyton/PythonProjects/Inżynierka/venv/lib/python3.10/site-packages/spacy/training/iob_utils.py:149: UserWarning: [W030] Some entities could not be aligned in the text \"Ashalata Bisoyi\n",
      "Transaction Processor - Oracle Ind...\" with entities \"[(16, 38, 'position'), (342, 363, 'position'), (10...\". Use `spacy.training.offsets_to_biluo_tags(nlp.make_doc(text), entities)` to check the alignment. Misaligned entities ('-') will be ignored during training.\n",
      "  warnings.warn(\n",
      "/home/mtyton/PythonProjects/Inżynierka/venv/lib/python3.10/site-packages/spacy/training/iob_utils.py:149: UserWarning: [W030] Some entities could not be aligned in the text \"Soumya Balan\n",
      "IT SUPPORT\n",
      "\n",
      "Sulthan Bathery, Kerala, ...\" with entities \"[(275, 301, 'position'), (324, 350, 'position'), (...\". Use `spacy.training.offsets_to_biluo_tags(nlp.make_doc(text), entities)` to check the alignment. Misaligned entities ('-') will be ignored during training.\n",
      "  warnings.warn(\n",
      "/home/mtyton/PythonProjects/Inżynierka/venv/lib/python3.10/site-packages/spacy/training/iob_utils.py:149: UserWarning: [W030] Some entities could not be aligned in the text \"Dushyant Bhatt\n",
      "BI / Big Data/ Azure\n",
      "\n",
      "Hyderabad-Dec...\" with entities \"[(30, 35, 'Skill'), (20, 28, 'Skill'), (15, 17, 'S...\". Use `spacy.training.offsets_to_biluo_tags(nlp.make_doc(text), entities)` to check the alignment. Misaligned entities ('-') will be ignored during training.\n",
      "  warnings.warn(\n",
      "/home/mtyton/PythonProjects/Inżynierka/venv/lib/python3.10/site-packages/spacy/training/iob_utils.py:149: UserWarning: [W030] Some entities could not be aligned in the text \"Ijas Nizamuddin\n",
      "Associate Consultant - State Stree...\" with entities \"[(16, 36, 'position'), (465, 485, 'position'), (54...\". Use `spacy.training.offsets_to_biluo_tags(nlp.make_doc(text), entities)` to check the alignment. Misaligned entities ('-') will be ignored during training.\n",
      "  warnings.warn(\n",
      "/home/mtyton/PythonProjects/Inżynierka/venv/lib/python3.10/site-packages/spacy/training/iob_utils.py:149: UserWarning: [W030] Some entities could not be aligned in the text \"Aanirudh Razdan\n",
      "Technical Support Executive - Tele...\" with entities \"[(17, 43, 'position'), (321, 347, 'position')]\". Use `spacy.training.offsets_to_biluo_tags(nlp.make_doc(text), entities)` to check the alignment. Misaligned entities ('-') will be ignored during training.\n",
      "  warnings.warn(\n",
      "/home/mtyton/PythonProjects/Inżynierka/venv/lib/python3.10/site-packages/spacy/training/iob_utils.py:149: UserWarning: [W030] Some entities could not be aligned in the text \"Ramesh HP\n",
      "CES ASSOCIATE CONSULTANT\n",
      "\n",
      "Bangalore, Kar...\" with entities \"[(1616, 1630, 'position'), (1719, 1722, 'Skill'), ...\". Use `spacy.training.offsets_to_biluo_tags(nlp.make_doc(text), entities)` to check the alignment. Misaligned entities ('-') will be ignored during training.\n",
      "  warnings.warn(\n",
      "/home/mtyton/PythonProjects/Inżynierka/venv/lib/python3.10/site-packages/spacy/training/iob_utils.py:149: UserWarning: [W030] Some entities could not be aligned in the text \"Dushyant Bhatt\n",
      "BI / Big Data/ Azure\n",
      "\n",
      "Hyderabad-Dec...\" with entities \"[(15, 17, 'Skill'), (20, 28, 'Skill'), (30, 35, 'S...\". Use `spacy.training.offsets_to_biluo_tags(nlp.make_doc(text), entities)` to check the alignment. Misaligned entities ('-') will be ignored during training.\n",
      "  warnings.warn(\n",
      "/home/mtyton/PythonProjects/Inżynierka/venv/lib/python3.10/site-packages/spacy/training/iob_utils.py:149: UserWarning: [W030] Some entities could not be aligned in the text \"Karthik GV\n",
      "Architect - Microsoft India\n",
      "\n",
      "Hyderabad,...\" with entities \"[(11, 20, 'position'), (187, 196, 'position'), (26...\". Use `spacy.training.offsets_to_biluo_tags(nlp.make_doc(text), entities)` to check the alignment. Misaligned entities ('-') will be ignored during training.\n",
      "  warnings.warn(\n",
      "/home/mtyton/PythonProjects/Inżynierka/venv/lib/python3.10/site-packages/spacy/training/iob_utils.py:149: UserWarning: [W030] Some entities could not be aligned in the text \"Soumya Balan\n",
      "Soumya Balan - BE Computer Science - ...\" with entities \"[(28, 47, 'Education'), (373, 399, 'position'), (4...\". Use `spacy.training.offsets_to_biluo_tags(nlp.make_doc(text), entities)` to check the alignment. Misaligned entities ('-') will be ignored during training.\n",
      "  warnings.warn(\n",
      "/home/mtyton/PythonProjects/Inżynierka/venv/lib/python3.10/site-packages/spacy/training/iob_utils.py:149: UserWarning: [W030] Some entities could not be aligned in the text \"Manisha Bharti\n",
      "Software Automation Engineer\n",
      "\n",
      "Pune,...\" with entities \"[(15, 43, 'position'), (237, 256, 'position'), (41...\". Use `spacy.training.offsets_to_biluo_tags(nlp.make_doc(text), entities)` to check the alignment. Misaligned entities ('-') will be ignored during training.\n",
      "  warnings.warn(\n",
      "/home/mtyton/PythonProjects/Inżynierka/venv/lib/python3.10/site-packages/spacy/training/iob_utils.py:149: UserWarning: [W030] Some entities could not be aligned in the text \"Rahul Bollu\n",
      "Software Engineer - Disney\n",
      "\n",
      "Hyderabad,...\" with entities \"[(12, 29, 'position'), (186, 192, 'position'), (13...\". Use `spacy.training.offsets_to_biluo_tags(nlp.make_doc(text), entities)` to check the alignment. Misaligned entities ('-') will be ignored during training.\n",
      "  warnings.warn(\n",
      "/home/mtyton/PythonProjects/Inżynierka/venv/lib/python3.10/site-packages/spacy/training/iob_utils.py:149: UserWarning: [W030] Some entities could not be aligned in the text \"Govardhana K\n",
      "Senior Software Engineer\n",
      "\n",
      "Bengaluru, ...\" with entities \"[(13, 37, 'position'), (264, 268, 'Skill'), (300, ...\". Use `spacy.training.offsets_to_biluo_tags(nlp.make_doc(text), entities)` to check the alignment. Misaligned entities ('-') will be ignored during training.\n",
      "  warnings.warn(\n",
      "/home/mtyton/PythonProjects/Inżynierka/venv/lib/python3.10/site-packages/spacy/training/iob_utils.py:149: UserWarning: [W030] Some entities could not be aligned in the text \"Girish Acharya\n",
      "Technical Architect & Sr. Software ...\" with entities \"[(15, 34, 'position'), (37, 58, 'position'), (680,...\". Use `spacy.training.offsets_to_biluo_tags(nlp.make_doc(text), entities)` to check the alignment. Misaligned entities ('-') will be ignored during training.\n",
      "  warnings.warn(\n",
      "/home/mtyton/PythonProjects/Inżynierka/venv/lib/python3.10/site-packages/spacy/training/iob_utils.py:149: UserWarning: [W030] Some entities could not be aligned in the text \"Kavya U.\n",
      "Network Ops Associate - Accenture\n",
      "\n",
      "Bengal...\" with entities \"[(1106, 1151, 'Education'), (9, 30, 'position'), (...\". Use `spacy.training.offsets_to_biluo_tags(nlp.make_doc(text), entities)` to check the alignment. Misaligned entities ('-') will be ignored during training.\n",
      "  warnings.warn(\n",
      "/home/mtyton/PythonProjects/Inżynierka/venv/lib/python3.10/site-packages/spacy/training/iob_utils.py:149: UserWarning: [W030] Some entities could not be aligned in the text \"Anvitha Rao\n",
      "Automation developer\n",
      "\n",
      "- Email me on In...\" with entities \"[(12, 32, 'position'), (109, 129, 'position'), (33...\". Use `spacy.training.offsets_to_biluo_tags(nlp.make_doc(text), entities)` to check the alignment. Misaligned entities ('-') will be ignored during training.\n",
      "  warnings.warn(\n",
      "/home/mtyton/PythonProjects/Inżynierka/venv/lib/python3.10/site-packages/spacy/training/iob_utils.py:149: UserWarning: [W030] Some entities could not be aligned in the text \"Suresh Kanagala\n",
      "Architecture SharePoint/Office 365...\" with entities \"[(40, 50, 'Skill'), (29, 39, 'Skill'), (52, 63, 'S...\". Use `spacy.training.offsets_to_biluo_tags(nlp.make_doc(text), entities)` to check the alignment. Misaligned entities ('-') will be ignored during training.\n",
      "  warnings.warn(\n",
      "/home/mtyton/PythonProjects/Inżynierka/venv/lib/python3.10/site-packages/spacy/training/iob_utils.py:149: UserWarning: [W030] Some entities could not be aligned in the text \"Sai Vivek Venkatraman\n",
      "Decisive, Data driven and re...\" with entities \"[(235, 253, 'Skill'), (413, 428, 'position'), (466...\". Use `spacy.training.offsets_to_biluo_tags(nlp.make_doc(text), entities)` to check the alignment. Misaligned entities ('-') will be ignored during training.\n",
      "  warnings.warn(\n",
      "/home/mtyton/PythonProjects/Inżynierka/venv/lib/python3.10/site-packages/spacy/training/iob_utils.py:149: UserWarning: [W030] Some entities could not be aligned in the text \"Priyesh Dubey\n",
      "Azure Developer with 9 Yrs 8 months ...\" with entities \"[(14, 29, 'position'), (297, 306, 'position'), (47...\". Use `spacy.training.offsets_to_biluo_tags(nlp.make_doc(text), entities)` to check the alignment. Misaligned entities ('-') will be ignored during training.\n",
      "  warnings.warn(\n",
      "/home/mtyton/PythonProjects/Inżynierka/venv/lib/python3.10/site-packages/spacy/training/iob_utils.py:149: UserWarning: [W030] Some entities could not be aligned in the text \"Kasturika Borah\n",
      "Team Member - Cisco\n",
      "\n",
      "Bengaluru, Ka...\" with entities \"[(131, 147, 'position'), (252, 255, 'Skill'), (257...\". Use `spacy.training.offsets_to_biluo_tags(nlp.make_doc(text), entities)` to check the alignment. Misaligned entities ('-') will be ignored during training.\n",
      "  warnings.warn(\n",
      "/home/mtyton/PythonProjects/Inżynierka/venv/lib/python3.10/site-packages/spacy/training/iob_utils.py:149: UserWarning: [W030] Some entities could not be aligned in the text \"Koushik Katta\n",
      "Devops\n",
      "\n",
      "Hyderabad, Telangana - Email...\" with entities \"[(14, 20, 'position'), (473, 488, 'position'), (26...\". Use `spacy.training.offsets_to_biluo_tags(nlp.make_doc(text), entities)` to check the alignment. Misaligned entities ('-') will be ignored during training.\n",
      "  warnings.warn(\n",
      "/home/mtyton/PythonProjects/Inżynierka/venv/lib/python3.10/site-packages/spacy/training/iob_utils.py:149: UserWarning: [W030] Some entities could not be aligned in the text \"Srinivas VO\n",
      "Sr. Test Manager\n",
      "\n",
      "Mumbai, Maharashtra ...\" with entities \"[(12, 28, 'position'), (117, 129, 'position'), (59...\". Use `spacy.training.offsets_to_biluo_tags(nlp.make_doc(text), entities)` to check the alignment. Misaligned entities ('-') will be ignored during training.\n",
      "  warnings.warn(\n"
     ]
    },
    {
     "name": "stdout",
     "output_type": "stream",
     "text": [
      "{'ner': 5748.187848343834}\n",
      "{'ner': 10295.573812672086}\n",
      "{'ner': 13792.74561373793}\n",
      "{'ner': 16801.64410793295}\n",
      "{'ner': 19567.982191980238}\n",
      "{'ner': 22027.175752335323}\n",
      "{'ner': 24368.16610341659}\n",
      "{'ner': 26498.86836079665}\n",
      "{'ner': 28482.902198450978}\n",
      "{'ner': 30376.857034266417}\n"
     ]
    }
   ],
   "source": [
    "ner = NER()\n",
    "ner.train(n_iter=10)\n"
   ]
  },
  {
   "cell_type": "code",
   "execution_count": 4,
   "metadata": {},
   "outputs": [
    {
     "data": {
      "text/html": [
       "<span class=\"tex2jax_ignore\"><div class=\"entities\" style=\"line-height: 2.5; direction: ltr\">' Must have: </br> Solid experience in  C++ development Understanding of  software design patterns Experience with implementing multi-threaded applications Understanding of fundamental design principles behind a scalable application Experience working with the relational databases and  \n",
       "<mark class=\"entity\" style=\"background: #ddd; padding: 0.45em 0.6em; margin: 0 0.25em; line-height: 1; border-radius: 0.35em;\">\n",
       "    SQL\n",
       "    <span style=\"font-size: 0.8em; font-weight: bold; line-height: 1; border-radius: 0.35em; vertical-align: middle; margin-left: 0.5rem\">Skill</span>\n",
       "</mark>\n",
       " Knowledge of object-relational mapping ( ORM ) Ability to write quality-oriented, efficient code and support it with unit and auto-test  Experience with * NIX  operational systems </br> Desired: </br> Experience in \n",
       "<mark class=\"entity\" style=\"background: #ddd; padding: 0.45em 0.6em; margin: 0 0.25em; line-height: 1; border-radius: 0.35em;\">\n",
       "    Python\n",
       "    <span style=\"font-size: 0.8em; font-weight: bold; line-height: 1; border-radius: 0.35em; vertical-align: middle; margin-left: 0.5rem\">Skill</span>\n",
       "</mark>\n",
       " 3.x development Understanding of the threading limitations of Python, and multi-process architecture Experience with \n",
       "<mark class=\"entity\" style=\"background: #ddd; padding: 0.45em 0.6em; margin: 0 0.25em; line-height: 1; border-radius: 0.35em;\">\n",
       "    Python\n",
       "    <span style=\"font-size: 0.8em; font-weight: bold; line-height: 1; border-radius: 0.35em; vertical-align: middle; margin-left: 0.5rem\">Skill</span>\n",
       "</mark>\n",
       " frameworks (e.g. \n",
       "<mark class=\"entity\" style=\"background: #ddd; padding: 0.45em 0.6em; margin: 0 0.25em; line-height: 1; border-radius: 0.35em;\">\n",
       "    Selenium\n",
       "    <span style=\"font-size: 0.8em; font-weight: bold; line-height: 1; border-radius: 0.35em; vertical-align: middle; margin-left: 0.5rem\">Skill</span>\n",
       "</mark>\n",
       ", Django) Familiarity with Amazon Web Services ',</br></div></span>"
      ],
      "text/plain": [
       "<IPython.core.display.HTML object>"
      ]
     },
     "metadata": {},
     "output_type": "display_data"
    }
   ],
   "source": [
    "spacy.displacy.render(ner.predict(text), style='ent', jupyter=True) "
   ]
  },
  {
   "cell_type": "code",
   "execution_count": 7,
   "metadata": {},
   "outputs": [
    {
     "data": {
      "text/plain": [
       "NERScore(ents_p=0.6129032258064516, ents_r=0.5685785536159601, ents_f=0.5899094437257438, ents_per_type={'position': {'p': 0.47058823529411764, 'r': 0.45714285714285713, 'f': 0.46376811594202894}, 'Skill': {'p': 0.6459627329192547, 'r': 0.5875706214689266, 'f': 0.6153846153846154}, 'Education': {'p': 0.25, 'r': 0.3333333333333333, 'f': 0.28571428571428575}})"
      ]
     },
     "execution_count": 7,
     "metadata": {},
     "output_type": "execute_result"
    }
   ],
   "source": [
    "ner.evaluate_model()"
   ]
  },
  {
   "cell_type": "code",
   "execution_count": 8,
   "metadata": {},
   "outputs": [],
   "source": [
    "ner.save_model()"
   ]
  },
  {
   "cell_type": "code",
   "execution_count": 9,
   "metadata": {},
   "outputs": [],
   "source": [
    "from database.db import conn"
   ]
  },
  {
   "cell_type": "code",
   "execution_count": 37,
   "metadata": {},
   "outputs": [
    {
     "data": {
      "text/plain": [
       "{'_id': ObjectId('6366761dbccd707b435cce3d'),\n",
       " 'title': ' Senior C++ Engineer / Windows / Hybrid ',\n",
       " 'skills': [' C++ ',\n",
       "  ' Design Patterns ',\n",
       "  ' SQL ',\n",
       "  ' ORM ',\n",
       "  ' Angielski (B2)',\n",
       "  ' AWS ',\n",
       "  ' Selenium ',\n",
       "  ' Django '],\n",
       " 'url': 'https://nofluffjobs.com/pl/job/senior-c-engineer-windows-hybrid-eer-poland-warszawa-yp2figwr',\n",
       " 'description': '<div _ngcontent-sc377=\"\" class=\"tw-overflow-hidden ng-star-inserted\" style=\"line-height: 1000px; height: auto;\"><p><strong>Must have:</strong></p>\\n<p>Solid experience in <strong>C++ development</strong><br>Understanding of <strong>software design patterns</strong><br>Experience with implementing multi-threaded applications<br>Understanding of fundamental design principles behind a scalable application<br>Experience working with the relational databases and <strong>SQL</strong><br>Knowledge of object-relational mapping (<strong>ORM</strong>)<br>Ability to write quality-oriented, efficient code and support it with unit and auto-test <br>Experience with *<strong>NIX </strong>operational systems</p>\\n<p><br><strong>Desired:</strong></p>\\n<p>Experience in Python 3.x development<br>Understanding of the threading limitations of Python, and multi-process architecture<br>Experience with Python frameworks (e.g. Selenium, Django)<br>Familiarity with Amazon Web Services<br><br></p></div>',\n",
       " 'platform': 1,\n",
       " 'uuid': Binary(b'\\xc9I\\xdc\\xf9\\xd6F\\n7\\x8e\\xcd\\xc4\\x13#\\x16\\x93\\x1c', 4),\n",
       " 'lang': 'EN'}"
      ]
     },
     "execution_count": 37,
     "metadata": {},
     "output_type": "execute_result"
    }
   ],
   "source": [
    "data = [x for x in conn.collection.find({\"lang\": \"EN\"})]\n",
    "d = data[0]\n",
    "d"
   ]
  },
  {
   "cell_type": "code",
   "execution_count": 50,
   "metadata": {},
   "outputs": [
    {
     "data": {
      "text/plain": [
       "' Senior C++ Engineer / Windows / Hybrid '"
      ]
     },
     "execution_count": 50,
     "metadata": {},
     "output_type": "execute_result"
    }
   ],
   "source": [
    "skills_line = \" \".join(d[\"skills\"])\n",
    "title_line = d[\"title\"]\n",
    "soup = BeautifulSoup(d[\"description\"], features=\"lxml\")\n",
    "text = soup.get_text(\" \")\n",
    "description = title_line + \"\\n\" + skills_line + \"\\n\" + text"
   ]
  },
  {
   "cell_type": "code",
   "execution_count": 49,
   "metadata": {},
   "outputs": [
    {
     "data": {
      "text/html": [
       "<span class=\"tex2jax_ignore\"><div class=\"entities\" style=\"line-height: 2.5; direction: ltr\"> C++   Design Patterns   \n",
       "<mark class=\"entity\" style=\"background: #ddd; padding: 0.45em 0.6em; margin: 0 0.25em; line-height: 1; border-radius: 0.35em;\">\n",
       "    SQL\n",
       "    <span style=\"font-size: 0.8em; font-weight: bold; line-height: 1; border-radius: 0.35em; vertical-align: middle; margin-left: 0.5rem\">Skill</span>\n",
       "</mark>\n",
       "   \n",
       "<mark class=\"entity\" style=\"background: #ddd; padding: 0.45em 0.6em; margin: 0 0.25em; line-height: 1; border-radius: 0.35em;\">\n",
       "    ORM\n",
       "    <span style=\"font-size: 0.8em; font-weight: bold; line-height: 1; border-radius: 0.35em; vertical-align: middle; margin-left: 0.5rem\">Skill</span>\n",
       "</mark>\n",
       "   Angielski (B2)  \n",
       "<mark class=\"entity\" style=\"background: #ddd; padding: 0.45em 0.6em; margin: 0 0.25em; line-height: 1; border-radius: 0.35em;\">\n",
       "    AWS\n",
       "    <span style=\"font-size: 0.8em; font-weight: bold; line-height: 1; border-radius: 0.35em; vertical-align: middle; margin-left: 0.5rem\">Skill</span>\n",
       "</mark>\n",
       "   Selenium   Django </br>Must have: </br> Solid experience in  C++ development Understanding of  software design patterns Experience with implementing multi-threaded applications Understanding of fundamental design principles behind a scalable application Experience working with the relational databases and  \n",
       "<mark class=\"entity\" style=\"background: #ddd; padding: 0.45em 0.6em; margin: 0 0.25em; line-height: 1; border-radius: 0.35em;\">\n",
       "    SQL\n",
       "    <span style=\"font-size: 0.8em; font-weight: bold; line-height: 1; border-radius: 0.35em; vertical-align: middle; margin-left: 0.5rem\">Skill</span>\n",
       "</mark>\n",
       " Knowledge of object-relational mapping ( ORM ) Ability to write quality-oriented, efficient code and support it with unit and auto-test  Experience with * NIX  operational systems </br> Desired: </br> Experience in \n",
       "<mark class=\"entity\" style=\"background: #ddd; padding: 0.45em 0.6em; margin: 0 0.25em; line-height: 1; border-radius: 0.35em;\">\n",
       "    Python\n",
       "    <span style=\"font-size: 0.8em; font-weight: bold; line-height: 1; border-radius: 0.35em; vertical-align: middle; margin-left: 0.5rem\">Skill</span>\n",
       "</mark>\n",
       " 3.x development Understanding of the threading limitations of Python, and multi-process architecture Experience with \n",
       "<mark class=\"entity\" style=\"background: #ddd; padding: 0.45em 0.6em; margin: 0 0.25em; line-height: 1; border-radius: 0.35em;\">\n",
       "    Python\n",
       "    <span style=\"font-size: 0.8em; font-weight: bold; line-height: 1; border-radius: 0.35em; vertical-align: middle; margin-left: 0.5rem\">Skill</span>\n",
       "</mark>\n",
       " frameworks (e.g. \n",
       "<mark class=\"entity\" style=\"background: #ddd; padding: 0.45em 0.6em; margin: 0 0.25em; line-height: 1; border-radius: 0.35em;\">\n",
       "    Selenium\n",
       "    <span style=\"font-size: 0.8em; font-weight: bold; line-height: 1; border-radius: 0.35em; vertical-align: middle; margin-left: 0.5rem\">Skill</span>\n",
       "</mark>\n",
       ", Django) Familiarity with Amazon Web Services</div></span>"
      ],
      "text/plain": [
       "<IPython.core.display.HTML object>"
      ]
     },
     "metadata": {},
     "output_type": "display_data"
    }
   ],
   "source": [
    "spacy.displacy.render(ner.predict(description), style='ent', jupyter=True)"
   ]
  },
  {
   "cell_type": "code",
   "execution_count": null,
   "metadata": {},
   "outputs": [],
   "source": []
  }
 ],
 "metadata": {
  "kernelspec": {
   "display_name": "Python 3.10.6 ('venv': venv)",
   "language": "python",
   "name": "python3"
  },
  "language_info": {
   "codemirror_mode": {
    "name": "ipython",
    "version": 3
   },
   "file_extension": ".py",
   "mimetype": "text/x-python",
   "name": "python",
   "nbconvert_exporter": "python",
   "pygments_lexer": "ipython3",
   "version": "3.10.6"
  },
  "orig_nbformat": 4,
  "vscode": {
   "interpreter": {
    "hash": "26ef832d66d3e78f8f0f481ce092ce9a7b5b5bb32f506d26cf4340fe2811262b"
   }
  }
 },
 "nbformat": 4,
 "nbformat_minor": 2
}
