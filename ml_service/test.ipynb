{
 "cells": [
  {
   "cell_type": "code",
   "execution_count": null,
   "metadata": {},
   "outputs": [],
   "source": []
  },
  {
   "cell_type": "code",
   "execution_count": 12,
   "metadata": {},
   "outputs": [],
   "source": [
    "import spacy\n",
    "\n",
    "from bs4 import BeautifulSoup\n",
    "from nlp.ner import NER\n",
    "import json\n"
   ]
  },
  {
   "cell_type": "code",
   "execution_count": 13,
   "metadata": {},
   "outputs": [],
   "source": [
    "request_data = {\n",
    "    \"title\": \"Fullstack Developer\",\n",
    "    \"skills\": [\n",
    "        \" Python \",\n",
    "        \" JavaScript \",\n",
    "        \" HTML \",\n",
    "        \" CSS \",\n",
    "        \" React \",\n",
    "        \" REST API \",\n",
    "        \" Docker \",\n",
    "        \" Kubernetes \",\n",
    "        \" Unit testing \",\n",
    "        \" Polski \",\n",
    "        \" Angielski \",\n",
    "        \" GCP \",\n",
    "        \" AWS \"\n",
    "    ],\n",
    "    \"description\": '<div _ngcontent-sc399=\"\" class=\"tw-overflow-hidden ng-star-inserted\" style=\"line-height: 1000px; height: auto;\"><p>We\\\"re looking for a Candidate who will work on Client’s platform dedicated to airlines that reshapes how travel and transportations businesses plan their commercial operation. The platform displace legacy data, forecasting, pricing, and reporting solutions with a single enterprise SaaS platform that leverages the latest advancements in deep learning, cloud computing, and user experience.</p></div>'\n",
    "}\n",
    "\n",
    "soup = BeautifulSoup(request_data[\"description\"], features=\"lxml\")\n",
    "desc = soup.get_text(\" \")\n",
    "\n",
    "text = request_data[\"title\"] + \"\\n\"\n",
    "for skill in request_data[\"skills\"]:\n",
    "    text+=skill+\"\\n\"\n",
    "\n",
    "text += desc\n"
   ]
  },
  {
   "cell_type": "code",
   "execution_count": 8,
   "metadata": {},
   "outputs": [],
   "source": [
    "text = \"\"\"\n",
    "'<div _ngcontent-sc377=\"\" class=\"tw-overflow-hidden ng-star-inserted\" style=\"line-height: 1000px; height: auto;\"><p><strong>Must have:</strong></p>\\n<p>Solid experience in <strong>C++ development</strong><br>Understanding of <strong>software design patterns</strong><br>Experience with implementing multi-threaded applications<br>Understanding of fundamental design principles behind a scalable application<br>Experience working with the relational databases and <strong>SQL</strong><br>Knowledge of object-relational mapping (<strong>ORM</strong>)<br>Ability to write quality-oriented, efficient code and support it with unit and auto-test <br>Experience with *<strong>NIX </strong>operational systems</p>\\n<p><br><strong>Desired:</strong></p>\\n<p>Experience in Python 3.x development<br>Understanding of the threading limitations of Python, and multi-process architecture<br>Experience with Python frameworks (e.g. Selenium, Django)<br>Familiarity with Amazon Web Services<br><br></p></div>',\n",
    "\"\"\"\n",
    "soup = BeautifulSoup(text, features=\"lxml\")\n",
    "text = soup.get_text(\" \")"
   ]
  },
  {
   "cell_type": "code",
   "execution_count": 25,
   "metadata": {},
   "outputs": [
    {
     "name": "stdout",
     "output_type": "stream",
     "text": [
      "{'ner': 1566.6399907949196}\n",
      "{'ner': 3035.3911216413144}\n",
      "{'ner': 4565.165747359048}\n",
      "{'ner': 6051.3773690125745}\n",
      "{'ner': 7573.077254642327}\n",
      "{'ner': 8965.50950826962}\n",
      "{'ner': 10365.574208221993}\n",
      "{'ner': 11735.948830426601}\n",
      "{'ner': 13042.642268328984}\n",
      "{'ner': 14465.342350456629}\n",
      "{'ner': 15792.125288013265}\n",
      "{'ner': 17101.15776228041}\n",
      "{'ner': 18498.227904293515}\n",
      "{'ner': 19771.790831722035}\n",
      "{'ner': 21011.770331961932}\n",
      "{'ner': 22329.51420156641}\n",
      "{'ner': 23527.014150978728}\n",
      "{'ner': 24799.889315348482}\n",
      "{'ner': 26038.85437552983}\n",
      "{'ner': 27288.35812936329}\n",
      "{'ner': 28475.759010729813}\n",
      "{'ner': 29763.854128784562}\n",
      "{'ner': 30982.82895813599}\n",
      "{'ner': 32185.65303568282}\n",
      "{'ner': 33392.822276499464}\n"
     ]
    }
   ],
   "source": [
    "ner = NER()\n",
    "ner.train(n_iter=25)"
   ]
  },
  {
   "cell_type": "code",
   "execution_count": 26,
   "metadata": {},
   "outputs": [
    {
     "data": {
      "text/html": [
       "<span class=\"tex2jax_ignore\"><div class=\"entities\" style=\"line-height: 2.5; direction: ltr\">Fullstack Developer</br> \n",
       "<mark class=\"entity\" style=\"background: #ddd; padding: 0.45em 0.6em; margin: 0 0.25em; line-height: 1; border-radius: 0.35em;\">\n",
       "    Python\n",
       "    <span style=\"font-size: 0.8em; font-weight: bold; line-height: 1; border-radius: 0.35em; vertical-align: middle; margin-left: 0.5rem\">Skill</span>\n",
       "</mark>\n",
       " </br> \n",
       "<mark class=\"entity\" style=\"background: #ddd; padding: 0.45em 0.6em; margin: 0 0.25em; line-height: 1; border-radius: 0.35em;\">\n",
       "    JavaScript\n",
       "    <span style=\"font-size: 0.8em; font-weight: bold; line-height: 1; border-radius: 0.35em; vertical-align: middle; margin-left: 0.5rem\">Skill</span>\n",
       "</mark>\n",
       " </br> \n",
       "<mark class=\"entity\" style=\"background: #ddd; padding: 0.45em 0.6em; margin: 0 0.25em; line-height: 1; border-radius: 0.35em;\">\n",
       "    HTML\n",
       "    <span style=\"font-size: 0.8em; font-weight: bold; line-height: 1; border-radius: 0.35em; vertical-align: middle; margin-left: 0.5rem\">Skill</span>\n",
       "</mark>\n",
       " </br> \n",
       "<mark class=\"entity\" style=\"background: #ddd; padding: 0.45em 0.6em; margin: 0 0.25em; line-height: 1; border-radius: 0.35em;\">\n",
       "    CSS\n",
       "    <span style=\"font-size: 0.8em; font-weight: bold; line-height: 1; border-radius: 0.35em; vertical-align: middle; margin-left: 0.5rem\">Skill</span>\n",
       "</mark>\n",
       " </br> \n",
       "<mark class=\"entity\" style=\"background: #ddd; padding: 0.45em 0.6em; margin: 0 0.25em; line-height: 1; border-radius: 0.35em;\">\n",
       "    React\n",
       "    <span style=\"font-size: 0.8em; font-weight: bold; line-height: 1; border-radius: 0.35em; vertical-align: middle; margin-left: 0.5rem\">Skill</span>\n",
       "</mark>\n",
       " </br> \n",
       "<mark class=\"entity\" style=\"background: #ddd; padding: 0.45em 0.6em; margin: 0 0.25em; line-height: 1; border-radius: 0.35em;\">\n",
       "    REST API\n",
       "    <span style=\"font-size: 0.8em; font-weight: bold; line-height: 1; border-radius: 0.35em; vertical-align: middle; margin-left: 0.5rem\">Skill</span>\n",
       "</mark>\n",
       " </br> \n",
       "<mark class=\"entity\" style=\"background: #ddd; padding: 0.45em 0.6em; margin: 0 0.25em; line-height: 1; border-radius: 0.35em;\">\n",
       "    Docker\n",
       "    <span style=\"font-size: 0.8em; font-weight: bold; line-height: 1; border-radius: 0.35em; vertical-align: middle; margin-left: 0.5rem\">Skill</span>\n",
       "</mark>\n",
       " </br> \n",
       "<mark class=\"entity\" style=\"background: #ddd; padding: 0.45em 0.6em; margin: 0 0.25em; line-height: 1; border-radius: 0.35em;\">\n",
       "    Kubernetes\n",
       "    <span style=\"font-size: 0.8em; font-weight: bold; line-height: 1; border-radius: 0.35em; vertical-align: middle; margin-left: 0.5rem\">Skill</span>\n",
       "</mark>\n",
       " </br> \n",
       "<mark class=\"entity\" style=\"background: #ddd; padding: 0.45em 0.6em; margin: 0 0.25em; line-height: 1; border-radius: 0.35em;\">\n",
       "    Unit testing\n",
       "    <span style=\"font-size: 0.8em; font-weight: bold; line-height: 1; border-radius: 0.35em; vertical-align: middle; margin-left: 0.5rem\">Skill</span>\n",
       "</mark>\n",
       " </br> Polski </br> Angielski </br> \n",
       "<mark class=\"entity\" style=\"background: #ddd; padding: 0.45em 0.6em; margin: 0 0.25em; line-height: 1; border-radius: 0.35em;\">\n",
       "    GCP\n",
       "    <span style=\"font-size: 0.8em; font-weight: bold; line-height: 1; border-radius: 0.35em; vertical-align: middle; margin-left: 0.5rem\">Skill</span>\n",
       "</mark>\n",
       " </br> \n",
       "<mark class=\"entity\" style=\"background: #ddd; padding: 0.45em 0.6em; margin: 0 0.25em; line-height: 1; border-radius: 0.35em;\">\n",
       "    AWS\n",
       "    <span style=\"font-size: 0.8em; font-weight: bold; line-height: 1; border-radius: 0.35em; vertical-align: middle; margin-left: 0.5rem\">Skill</span>\n",
       "</mark>\n",
       " </br>We&quot;re looking for a Candidate who will work on Client’s platform dedicated to airlines that reshapes how travel and transportations businesses plan their commercial operation. The platform displace legacy data, \n",
       "<mark class=\"entity\" style=\"background: #ddd; padding: 0.45em 0.6em; margin: 0 0.25em; line-height: 1; border-radius: 0.35em;\">\n",
       "    forecasting\n",
       "    <span style=\"font-size: 0.8em; font-weight: bold; line-height: 1; border-radius: 0.35em; vertical-align: middle; margin-left: 0.5rem\">Skill</span>\n",
       "</mark>\n",
       ", pricing, and reporting solutions with a single enterprise SaaS platform that leverages the latest advancements in \n",
       "<mark class=\"entity\" style=\"background: #ddd; padding: 0.45em 0.6em; margin: 0 0.25em; line-height: 1; border-radius: 0.35em;\">\n",
       "    deep learning\n",
       "    <span style=\"font-size: 0.8em; font-weight: bold; line-height: 1; border-radius: 0.35em; vertical-align: middle; margin-left: 0.5rem\">Skill</span>\n",
       "</mark>\n",
       ", \n",
       "<mark class=\"entity\" style=\"background: #ddd; padding: 0.45em 0.6em; margin: 0 0.25em; line-height: 1; border-radius: 0.35em;\">\n",
       "    cloud computing\n",
       "    <span style=\"font-size: 0.8em; font-weight: bold; line-height: 1; border-radius: 0.35em; vertical-align: middle; margin-left: 0.5rem\">Skill</span>\n",
       "</mark>\n",
       ", and user experience.</div></span>"
      ],
      "text/plain": [
       "<IPython.core.display.HTML object>"
      ]
     },
     "metadata": {},
     "output_type": "display_data"
    }
   ],
   "source": [
    "spacy.displacy.render(ner.predict(text), style='ent', jupyter=True) "
   ]
  },
  {
   "cell_type": "code",
   "execution_count": 27,
   "metadata": {},
   "outputs": [
    {
     "data": {
      "text/plain": [
       "NERScore(ents_p=0.8297872340425532, ents_r=0.7862903225806451, ents_f=0.8074534161490682, ents_per_type={'Skill': {'p': 0.8648648648648649, 'r': 0.8292682926829268, 'f': 0.846692607003891}, 'Experience': {'p': 0.21739130434782608, 'r': 0.2, 'f': 0.20833333333333331}, 'Position': {'p': 0.7083333333333334, 'r': 0.6296296296296297, 'f': 0.6666666666666667}, 'Education': {'p': 0.4, 'r': 0.2222222222222222, 'f': 0.2857142857142857}})"
      ]
     },
     "execution_count": 27,
     "metadata": {},
     "output_type": "execute_result"
    }
   ],
   "source": [
    "ner.evaluate_model()"
   ]
  },
  {
   "cell_type": "code",
   "execution_count": 28,
   "metadata": {},
   "outputs": [],
   "source": [
    "ner.save_model()"
   ]
  },
  {
   "cell_type": "code",
   "execution_count": 30,
   "metadata": {},
   "outputs": [],
   "source": [
    "doc = ner.predict(text)\n"
   ]
  },
  {
   "cell_type": "code",
   "execution_count": 48,
   "metadata": {},
   "outputs": [
    {
     "data": {
      "text/plain": [
       "[('SQL', 'Skill'), ('Python', 'Skill'), ('Python', 'Skill')]"
      ]
     },
     "execution_count": 48,
     "metadata": {},
     "output_type": "execute_result"
    }
   ],
   "source": [
    "embedding_data = [(ent.text, ent.label_) for ent in doc.ents]\n",
    "embedding_data\n"
   ]
  },
  {
   "cell_type": "code",
   "execution_count": 41,
   "metadata": {},
   "outputs": [],
   "source": [
    "import io\n",
    "import os\n",
    "import re\n",
    "import shutil\n",
    "import string\n",
    "import tensorflow as tf\n",
    "import tensorflow_text as tf_text"
   ]
  },
  {
   "cell_type": "code",
   "execution_count": 42,
   "metadata": {},
   "outputs": [
    {
     "name": "stdout",
     "output_type": "stream",
     "text": [
      "[[b'SQL'], [b'Py', b'thon'], [b'Py', b'thon']]\n"
     ]
    }
   ],
   "source": [
    "MODEL_HANDLE = \"https://tfhub.dev/google/zh_segmentation/1\"\n",
    "segmenter = tf_text.HubModuleTokenizer(MODEL_HANDLE)\n",
    "tokens = segmenter.tokenize(embedding_data)\n",
    "print(tokens.to_list())"
   ]
  },
  {
   "cell_type": "code",
   "execution_count": 29,
   "metadata": {},
   "outputs": [
    {
     "data": {
      "text/plain": [
       "['tok2vec', 'tagger', 'parser', 'attribute_ruler', 'lemmatizer', 'ner']"
      ]
     },
     "execution_count": 29,
     "metadata": {},
     "output_type": "execute_result"
    }
   ],
   "source": [
    "ner.nlp.pipe_names"
   ]
  },
  {
   "cell_type": "code",
   "execution_count": 35,
   "metadata": {},
   "outputs": [
    {
     "data": {
      "text/html": [
       "<span class=\"tex2jax_ignore\"><svg xmlns=\"http://www.w3.org/2000/svg\" xmlns:xlink=\"http://www.w3.org/1999/xlink\" xml:lang=\"pl\" id=\"573a7884068546149d92c5d84f66e83f-0\" class=\"displacy\" width=\"575\" height=\"312.0\" direction=\"ltr\" style=\"max-width: none; height: 312.0px; color: #000000; background: #ffffff; font-family: Arial; direction: ltr\">\n",
       "<text class=\"displacy-token\" fill=\"currentColor\" text-anchor=\"middle\" y=\"222.0\">\n",
       "    <tspan class=\"displacy-word\" fill=\"currentColor\" x=\"50\">Nudzi</tspan>\n",
       "    <tspan class=\"displacy-tag\" dy=\"2em\" fill=\"currentColor\" x=\"50\">VERB</tspan>\n",
       "</text>\n",
       "\n",
       "<text class=\"displacy-token\" fill=\"currentColor\" text-anchor=\"middle\" y=\"222.0\">\n",
       "    <tspan class=\"displacy-word\" fill=\"currentColor\" x=\"225\">mi</tspan>\n",
       "    <tspan class=\"displacy-tag\" dy=\"2em\" fill=\"currentColor\" x=\"225\">PRON</tspan>\n",
       "</text>\n",
       "\n",
       "<text class=\"displacy-token\" fill=\"currentColor\" text-anchor=\"middle\" y=\"222.0\">\n",
       "    <tspan class=\"displacy-word\" fill=\"currentColor\" x=\"400\">się</tspan>\n",
       "    <tspan class=\"displacy-tag\" dy=\"2em\" fill=\"currentColor\" x=\"400\">PRON</tspan>\n",
       "</text>\n",
       "\n",
       "<g class=\"displacy-arrow\">\n",
       "    <path class=\"displacy-arc\" id=\"arrow-573a7884068546149d92c5d84f66e83f-0-0\" stroke-width=\"2px\" d=\"M70,177.0 C70,89.5 220.0,89.5 220.0,177.0\" fill=\"none\" stroke=\"currentColor\"/>\n",
       "    <text dy=\"1.25em\" style=\"font-size: 0.8em; letter-spacing: 1px\">\n",
       "        <textPath xlink:href=\"#arrow-573a7884068546149d92c5d84f66e83f-0-0\" class=\"displacy-label\" startOffset=\"50%\" side=\"left\" fill=\"currentColor\" text-anchor=\"middle\">iobj</textPath>\n",
       "    </text>\n",
       "    <path class=\"displacy-arrowhead\" d=\"M220.0,179.0 L228.0,167.0 212.0,167.0\" fill=\"currentColor\"/>\n",
       "</g>\n",
       "\n",
       "<g class=\"displacy-arrow\">\n",
       "    <path class=\"displacy-arc\" id=\"arrow-573a7884068546149d92c5d84f66e83f-0-1\" stroke-width=\"2px\" d=\"M70,177.0 C70,2.0 400.0,2.0 400.0,177.0\" fill=\"none\" stroke=\"currentColor\"/>\n",
       "    <text dy=\"1.25em\" style=\"font-size: 0.8em; letter-spacing: 1px\">\n",
       "        <textPath xlink:href=\"#arrow-573a7884068546149d92c5d84f66e83f-0-1\" class=\"displacy-label\" startOffset=\"50%\" side=\"left\" fill=\"currentColor\" text-anchor=\"middle\">expl:pv</textPath>\n",
       "    </text>\n",
       "    <path class=\"displacy-arrowhead\" d=\"M400.0,179.0 L408.0,167.0 392.0,167.0\" fill=\"currentColor\"/>\n",
       "</g>\n",
       "</svg></span>"
      ],
      "text/plain": [
       "<IPython.core.display.HTML object>"
      ]
     },
     "metadata": {},
     "output_type": "display_data"
    }
   ],
   "source": [
    "import spacy\n",
    "\n",
    "nlp = spacy.load(\"pl_core_news_sm\")\n",
    "doc = nlp(\"Jest bardzo głodny, muszę coś zjeść\")\n",
    "spacy.displacy.render(doc) "
   ]
  },
  {
   "cell_type": "code",
   "execution_count": null,
   "metadata": {},
   "outputs": [],
   "source": []
  }
 ],
 "metadata": {
  "kernelspec": {
   "display_name": "Python 3.10.6 ('venv': venv)",
   "language": "python",
   "name": "python3"
  },
  "language_info": {
   "codemirror_mode": {
    "name": "ipython",
    "version": 3
   },
   "file_extension": ".py",
   "mimetype": "text/x-python",
   "name": "python",
   "nbconvert_exporter": "python",
   "pygments_lexer": "ipython3",
   "version": "3.10.6"
  },
  "orig_nbformat": 4,
  "vscode": {
   "interpreter": {
    "hash": "26ef832d66d3e78f8f0f481ce092ce9a7b5b5bb32f506d26cf4340fe2811262b"
   }
  }
 },
 "nbformat": 4,
 "nbformat_minor": 2
}
